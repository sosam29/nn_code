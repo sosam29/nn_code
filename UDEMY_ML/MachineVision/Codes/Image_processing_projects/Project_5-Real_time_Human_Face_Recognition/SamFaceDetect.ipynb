{
 "cells": [
  {
   "cell_type": "code",
   "execution_count": 183,
   "metadata": {},
   "outputs": [],
   "source": [
    "import tensorflow as tf\n",
    "import numpy as np\n",
    "import matplotlib.pyplot as plt\n",
    "%matplotlib inline"
   ]
  },
  {
   "cell_type": "code",
   "execution_count": 184,
   "metadata": {},
   "outputs": [],
   "source": [
    "#from tensorflow.examples.tutorials.mnist import input_data"
   ]
  },
  {
   "cell_type": "code",
   "execution_count": 185,
   "metadata": {},
   "outputs": [],
   "source": [
    "#minst = input_data.read_data_sets('minst_data/')"
   ]
  },
  {
   "cell_type": "code",
   "execution_count": 186,
   "metadata": {},
   "outputs": [],
   "source": [
    "def imageshow(digit):\n",
    "    plt.imshow(digit.reshape(28, 28), cmap='Greys', interpolation='nearest')"
   ]
  },
  {
   "cell_type": "code",
   "execution_count": 187,
   "metadata": {},
   "outputs": [],
   "source": [
    "training_images, training_labels = minst.train.next_batch(50)\n",
    "test_images, test_labels = minst.test.next_batch(5)\n"
   ]
  },
  {
   "cell_type": "code",
   "execution_count": 188,
   "metadata": {},
   "outputs": [
    {
     "data": {
      "image/png": "[encoded data removed]",
      "text/plain": [
       "<Figure size 432x288 with 1 Axes>"
      ]
     },
     "metadata": {},
     "output_type": "display_data"
    }
   ],
   "source": [
    "imageshow(training_images[4])"
   ]
  },
  {
   "cell_type": "code",
   "execution_count": 189,
   "metadata": {},
   "outputs": [
    {
     "data": {
      "text/plain": [
       "array([3, 4, 0, 9, 7], dtype=uint8)"
      ]
     },
     "execution_count": 189,
     "metadata": {},
     "output_type": "execute_result"
    }
   ],
   "source": [
    "training_labels[:5]"
   ]
  },
  {
   "cell_type": "code",
   "execution_count": 190,
   "metadata": {},
   "outputs": [
    {
     "data": {
      "text/plain": [
       "(50,)"
      ]
     },
     "execution_count": 190,
     "metadata": {},
     "output_type": "execute_result"
    }
   ],
   "source": [
    "training_labels.shape\n"
   ]
  },
  {
   "cell_type": "code",
   "execution_count": 191,
   "metadata": {},
   "outputs": [],
   "source": [
    "tf.reset_default_graph()"
   ]
  },
  {
   "cell_type": "code",
   "execution_count": 192,
   "metadata": {},
   "outputs": [],
   "source": [
    "training_images_pl = tf.placeholder('float', [None, 784])\n",
    "test_images_pl = tf.placeholder('float', [784])"
   ]
  },
  {
   "cell_type": "code",
   "execution_count": 193,
   "metadata": {},
   "outputs": [],
   "source": [
    "def get_majority_predicated_label(labels, indices):\n",
    "    \n",
    "    predicated_labels =[]\n",
    "    \n",
    "    for i in indices:\n",
    "        predicated_labels.append(labels[i])\n",
    "        \n",
    "    predicated_labels = np.array(predicated_labels)\n",
    "    \n",
    "    print(predicated_labels)\n",
    "    \n",
    "    counts  = np.bincount(predicated_labels)\n",
    "    \n",
    "    return np.argmax(counts)\n",
    "    \n",
    "    "
   ]
  },
  {
   "cell_type": "code",
   "execution_count": 194,
   "metadata": {},
   "outputs": [],
   "source": [
    "#l1_distance = tf.abs(tf.subtract(training_images_pl, test_images_pl))"
   ]
  },
  {
   "cell_type": "code",
   "execution_count": 195,
   "metadata": {},
   "outputs": [],
   "source": [
    "#l1_distance.shape"
   ]
  },
  {
   "cell_type": "code",
   "execution_count": 196,
   "metadata": {},
   "outputs": [],
   "source": [
    "#distance_l1= tf.reduce_sum(l1_distance, axis=1)"
   ]
  },
  {
   "cell_type": "code",
   "execution_count": 197,
   "metadata": {},
   "outputs": [],
   "source": [
    "#pred_top_knn = tf.nn.top_k(tf.negative(distance_l1), k=5)"
   ]
  },
  {
   "cell_type": "code",
   "execution_count": 198,
   "metadata": {},
   "outputs": [],
   "source": [
    "l2_distance = tf.square(tf.subtract(training_images_pl, test_images_pl))\n",
    "distance_l2 = tf.sqrt(tf.reduce_sum(l2_distance, axis=1))\n",
    "pred_top_knn= tf.nn.top_k(tf.negative(distance_l2), k=5)"
   ]
  },
  {
   "cell_type": "code",
   "execution_count": 199,
   "metadata": {},
   "outputs": [],
   "source": [
    "accuracy = 0"
   ]
  },
  {
   "cell_type": "code",
   "execution_count": 200,
   "metadata": {},
   "outputs": [],
   "source": [
    "init = tf.global_variables_initializer()"
   ]
  },
  {
   "cell_type": "code",
   "execution_count": 201,
   "metadata": {},
   "outputs": [
    {
     "name": "stdout",
     "output_type": "stream",
     "text": [
      "[6 5 2 0 1]\n",
      "[-8.200473 -8.293026 -8.361895 -8.479114 -8.511912]\n",
      "Test:  0 Predicated:  0 Actual: 8\n",
      "[2 4 6 6 3]\n",
      "[ -7.8516173 -10.037435  -10.531286  -10.568908  -10.752985 ]\n",
      "Test:  1 Predicated:  6 Actual: 2\n",
      "[8 1 8 1 2]\n",
      "[-7.341782  -7.9147964 -7.9365187 -8.018409  -8.029023 ]\n",
      "Test:  2 Predicated:  1 Actual: 8\n",
      "[1 1 1 1 7]\n",
      "[-6.106938  -6.294488  -6.454651  -6.597559  -7.2039275]\n",
      "Test:  3 Predicated:  1 Actual: 9\n",
      "[7 4 1 1 1]\n",
      "[-6.658415  -7.5249157 -7.6792536 -7.786364  -7.966452 ]\n",
      "Test:  4 Predicated:  1 Actual: 9\n",
      "Done\n",
      "Accuracy: 0\n"
     ]
    }
   ],
   "source": [
    "with tf.Session() as sess:\n",
    "    sess.run(init)\n",
    "    for i in range(len(test_images)):\n",
    "        a, indices = sess.run(pred_top_knn, feed_dict= {training_images_pl : training_images,\n",
    "                                                       test_images_pl :test_images[i,:]} )\n",
    "        predicted_label = get_majority_predicated_label(training_labels, indices)\n",
    "        print(a)\n",
    "        print(\"Test: \", i, \"Predicated: \", predicted_label,\n",
    "              \"Actual:\" , test_labels[i])\n",
    "        \n",
    "        if predicted_label == test_labels[i]:\n",
    "            accuracy +=1./len(test_images)\n",
    "            \n",
    "    print (\"Done\")\n",
    "    print(\"Accuracy:\" , accuracy)\n",
    "    \n",
    "    writer = tf.summary.FileWriter(\"./digit_prediction\", sess.graph)\n",
    "\n",
    "    writer.close()"
   ]
  }
 ],
 "metadata": {
  "kernelspec": {
   "display_name": "Python 3",
   "language": "python",
   "name": "python3"
  },
  "language_info": {
   "codemirror_mode": {
    "name": "ipython",
    "version": 3
   },
   "file_extension": ".py",
   "mimetype": "text/x-python",
   "name": "python",
   "nbconvert_exporter": "python",
   "pygments_lexer": "ipython3",
   "version": "3.6.6"
  }
 },
 "nbformat": 4,
 "nbformat_minor": 2
}
